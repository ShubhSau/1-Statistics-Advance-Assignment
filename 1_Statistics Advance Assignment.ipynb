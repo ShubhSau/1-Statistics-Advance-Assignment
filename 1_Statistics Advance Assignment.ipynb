{
 "cells": [
  {
   "cell_type": "markdown",
   "id": "870b8bfe-4289-4930-906f-2f8d29ce093c",
   "metadata": {},
   "source": [
    "Q1. What is the Probability density function?"
   ]
  },
  {
   "cell_type": "markdown",
   "id": "0a64dfef-730f-4d2c-b095-e7fd8c6fe836",
   "metadata": {},
   "source": [
    "A1. The Probability Density Function(PDF) defines the probability function representing the density of a continuous random variable lying between a specific range of values. In other words, the probability density function produces the likelihood of values of the continuous random variable. Sometimes it is also called a probability distribution function or just a probability function. However, this function is stated in many other sources as the function over a broad set of values. Often it is referred to as cumulative distribution function or sometimes as probability mass function(PMF). However, the actual truth is PDF (probability density function ) is defined for continuous random variables, whereas PMF (probability mass function) is defined for discrete random variables."
   ]
  },
  {
   "cell_type": "markdown",
   "id": "b090d61b-242d-413b-9397-641c6a186a15",
   "metadata": {},
   "source": [
    "Q2. What are the types of Probability distribution?"
   ]
  },
  {
   "cell_type": "markdown",
   "id": "99cf4fd8-8877-4d68-b24c-38c2a397d89c",
   "metadata": {},
   "source": [
    "A2.Probability distribution yields the possible outcomes for any random event. It is also defined based on the underlying sample space as a set of possible outcomes of any random experiment. These settings could be a set of real numbers or a set of vectors or a set of any entities. It is a part of probability and statistics.\n",
    "\n",
    "## Types of Probability Distribution\n",
    "\n",
    "There are two types of probability distribution which are used for different purposes and various types of the data generation process.\n",
    "\n",
    "- Normal or Cumulative Probability Distribution\n",
    "- Binomial or Discrete Probability Distribution\n",
    "\n",
    "- Cumulative Probability Distribution:\n",
    "The cumulative probability distribution is also known as a continuous probability distribution. In this distribution, the set of possible outcomes can take on values in a continuous range.\n",
    "Some of the examples are:\n",
    "    - Height of the Population of the world\n",
    "    - Rolling a dice (once or multiple times)\n",
    "    - Tossing a coin\n",
    "    - The sizes of shoes\n",
    "    \n",
    "    \n",
    "- Discrete Probability Distribution:\n",
    "A distribution is called a discrete probability distribution, where the set of outcomes are discrete in nature.\n",
    "For example, if a dice is rolled, then all the possible outcomes are discrete and give a mass of outcomes. It is also known as the probability mass function.\n",
    "So, the outcomes of binomial distribution consist of n repeated trials and the outcome may or may not occur.\n",
    "\n",
    "In the real-life, the concept is used for:\n",
    "    - To find the number of used and unused materials while manufacturing a product.\n",
    "    - To take a survey of positive and negative feedback from the people for anything.\n",
    "    - The number of men and women working in a company."
   ]
  },
  {
   "cell_type": "markdown",
   "id": "2d655145-703e-4858-95ad-dd1971e97675",
   "metadata": {},
   "source": [
    "Q3. Write a Python function to calculate the probability density function of a normal distribution with given mean and standard deviation at a given \n",
    "point."
   ]
  },
  {
   "cell_type": "code",
   "execution_count": 19,
   "id": "d460be97-4beb-49c3-aebe-777c0638a699",
   "metadata": {},
   "outputs": [
    {
     "name": "stdout",
     "output_type": "stream",
     "text": [
      "PDF at 0.5 = 0.3520653267642995\n"
     ]
    }
   ],
   "source": [
    "import math\n",
    "\n",
    "def normal_pdf(x, mean, std_dev):\n",
    "\n",
    "    exponent = -0.5 * ((x - mean) / std_dev)**2\n",
    "    coefficient = 1 / (std_dev * math.sqrt(2 * math.pi))\n",
    "    pdf_value = coefficient * math.exp(exponent)\n",
    "    return pdf_value\n",
    "\n",
    "# Example usage\n",
    "mean = 0\n",
    "std_dev = 1\n",
    "point = 0.5\n",
    "pdf_at_point = normal_pdf(point, mean, std_dev)\n",
    "print(f\"PDF at {point} = {pdf_at_point}\")\n"
   ]
  },
  {
   "cell_type": "markdown",
   "id": "45a7888d-f843-4178-8422-7632d23af188",
   "metadata": {},
   "source": [
    "Q4. What are the properties of Binomial distribution? Give two examples of events where binomial distribution can be applied."
   ]
  },
  {
   "cell_type": "markdown",
   "id": "2504abc3-829f-4edf-af5c-31305977caf2",
   "metadata": {},
   "source": [
    "A4. \n",
    "## Binomial Probability Distribution:\n",
    "\n",
    "In binomial probability distribution, the number of ‘Success’ in a sequence of n experiments, where each time a question is asked for yes-no, then the boolean-valued outcome is represented either with success/yes/true/one (probability p) or failure/no/false/zero (probability q = 1 − p).\n",
    "\n",
    "## Properties of Binomial Distribution\n",
    "\n",
    "The properties of the binomial distribution are:\n",
    "\n",
    "- There are two possible outcomes: true or false, success or failure, yes or no.\n",
    "- There is ‘n’ number of independent trials or a fixed number of n times repeated trials.\n",
    "- The probability of success or failure remains the same for each trial.\n",
    "- Only the number of success is calculated out of n independent trials.\n",
    "- Every trial is an independent trial, which means the outcome of one trial does not affect the outcome of another trial.\n",
    "\n",
    "## Binomial Distribution Examples\n",
    "\n",
    "As we already know, binomial distribution gives the possibility of a different set of outcomes. In real life, the concept is used for:\n",
    "\n",
    "- Taking a survey of positive and negative reviews from the public for any specific product or place.\n",
    "- To find the number of male and female employees in an organisation.\n"
   ]
  },
  {
   "cell_type": "markdown",
   "id": "3581cb39-d3ad-4c65-8b36-9b612860599e",
   "metadata": {},
   "source": [
    "Q5. Generate a random sample of size 1000 from a binomial distribution with probability of success 0.4 and plot a histogram of the results using matplotlib."
   ]
  },
  {
   "cell_type": "code",
   "execution_count": 20,
   "id": "a1334714-147d-444e-8328-589a254c2c87",
   "metadata": {},
   "outputs": [
    {
     "data": {
      "image/png": "[encoded data removed]",
      "text/plain": [
       "<Figure size 640x480 with 1 Axes>"
      ]
     },
     "metadata": {},
     "output_type": "display_data"
    }
   ],
   "source": [
    "import numpy as np\n",
    "import matplotlib.pyplot as plt\n",
    "\n",
    "# Parameters\n",
    "sample_size = 1000\n",
    "probability_of_success = 0.4\n",
    "\n",
    "# Generate random sample from a binomial distribution\n",
    "random_sample = np.random.binomial(n=1, p=probability_of_success, size=sample_size)\n",
    "\n",
    "# Plot a histogram\n",
    "plt.hist(random_sample, bins=2, edgecolor='black')\n",
    "plt.title('Histogram of Random Sample from Binomial Distribution')\n",
    "plt.xlabel('Value')\n",
    "plt.ylabel('Frequency')\n",
    "plt.show()\n"
   ]
  },
  {
   "cell_type": "markdown",
   "id": "4e4784fc-55a2-4875-a864-55b844d0e698",
   "metadata": {},
   "source": [
    "Q6. Write a Python function to calculate the cumulative distribution function of a Poisson distribution with given mean at a given point."
   ]
  },
  {
   "cell_type": "code",
   "execution_count": 21,
   "id": "9e7b8f14-cb51-4f44-a00d-b4bccea5a3f2",
   "metadata": {},
   "outputs": [
    {
     "name": "stdout",
     "output_type": "stream",
     "text": [
      "CDF at 5 = 0.9160820579686966\n"
     ]
    }
   ],
   "source": [
    "import math\n",
    "\n",
    "def poisson_cdf(x, mean):\n",
    "\n",
    "    cdf_value = 0\n",
    "    for k in range(x + 1):\n",
    "        cdf_value += math.exp(-mean) * (mean**k) / math.factorial(k)\n",
    "    return cdf_value\n",
    "\n",
    "# Example usage\n",
    "mean = 3\n",
    "point = 5\n",
    "cdf_at_point = poisson_cdf(point, mean)\n",
    "print(f\"CDF at {point} = {cdf_at_point}\")\n"
   ]
  },
  {
   "cell_type": "markdown",
   "id": "2e1a047f-45b3-4cff-ab8e-0b296ad293e3",
   "metadata": {},
   "source": [
    "Q7. How Binomial distribution different from Poisson distribution?"
   ]
  },
  {
   "cell_type": "markdown",
   "id": "ee9b184d-f940-4b83-af13-7754005bbd79",
   "metadata": {},
   "source": [
    "A7. \n",
    "BINOMIAL DISTRIBUTION\t\n",
    "- Meaning\tBinomial distribution is one in which the probability of repeated number of trials are studied.\t\n",
    "- Biparametric, i.e. it has 2 parameters n and p.\t\n",
    "- Fixed\t\n",
    "- Constant probability\t\n",
    "- Only two possible outcomes, i.e. success or failure.\n",
    "- Mean > Variance\t\n",
    "- Example:Coin tossing experiment.\n",
    "\n",
    "POISSON DISTRIBUTION\n",
    "- Poisson Distribution gives the count of independent events occur randomly with a given period of time.\n",
    "- Uniparametric, i.e. it has only 1 parameter m. \n",
    "- Infinite\n",
    "- Infinitesimal chance of success\n",
    "- Unlimited number of possible outcomes.\n",
    "- Mean = Variance\n",
    "- Example: Printing mistakes/page of a large book."
   ]
  },
  {
   "cell_type": "markdown",
   "id": "de739873-532f-4173-a1bc-8201943692c1",
   "metadata": {},
   "source": [
    "Q8. Generate a random sample of size 1000 from a Poisson distribution with mean 5 and calculate the sample mean and variance."
   ]
  },
  {
   "cell_type": "code",
   "execution_count": 27,
   "id": "4b2b748c-bbb5-433f-8a1e-1512937b9ac5",
   "metadata": {},
   "outputs": [
    {
     "name": "stdout",
     "output_type": "stream",
     "text": [
      "Sample Mean: 4.972\n",
      "Sample Variance: 5.1583743743743735\n"
     ]
    }
   ],
   "source": [
    "import numpy as np\n",
    "\n",
    "# Parameters\n",
    "sample_size = 1000\n",
    "mean = 5\n",
    "\n",
    "# Generate random sample from a Poisson distribution\n",
    "random_sample = np.random.poisson(mean, size=sample_size)\n",
    "\n",
    "# Calculate sample mean and variance\n",
    "sample_mean = np.mean(random_sample)\n",
    "sample_variance = np.var(random_sample, ddof=1)  # ddof=1 for sample variance\n",
    "\n",
    "print(f\"Sample Mean: {sample_mean}\")\n",
    "print(f\"Sample Variance: {sample_variance}\")\n"
   ]
  },
  {
   "cell_type": "markdown",
   "id": "8d4e20f3-c6ee-41d3-9722-bb88c9993216",
   "metadata": {},
   "source": [
    "Q9. How mean and variance are related in Binomial distribution and Poisson distribution?"
   ]
  },
  {
   "cell_type": "markdown",
   "id": "e2d92ac5-97f4-458d-b7df-4ee317d6b230",
   "metadata": {},
   "source": [
    "A9. \n",
    "Binomial Distribution:\n",
    "\n",
    "- For a binomial distribution with parameters n (number of trials) and p (probability of success), the mean (μ) and variance (σ^2).\n",
    "- Mean > Variance\n",
    "\n",
    "Poisson Distribution:\n",
    "\n",
    "- For a Poisson distribution with parameter λ (mean and variance), the mean (μ) and variance (σ^2) are equal.\n",
    "- Mean = Variance"
   ]
  },
  {
   "cell_type": "markdown",
   "id": "faefa58a-eaca-4f3e-8c01-c76615bf7774",
   "metadata": {},
   "source": [
    "Q10. In normal distribution with respect to mean position, where does the least frequent data appear?"
   ]
  },
  {
   "cell_type": "markdown",
   "id": "b9c58877-de71-4d73-9f5c-42e5d3c35e27",
   "metadata": {},
   "source": [
    "A10.\n",
    "\n",
    "In a normal distribution, the data is symmetrically distributed around the mean. This means that the values that are farther away from the mean are less frequent than the values that are closer to the mean. The least frequent data appears in the tails of the distribution, which are the regions farthest from the mean.\n",
    "\n",
    "In a standard normal distribution (with a mean of 0 and a standard deviation of 1), the data becomes less frequent as you move away from the mean of 0 in both the positive and negative directions. The tails of the distribution represent extreme values, and these extreme values are less likely to occur compared to values closer to the mean.\n",
    "\n",
    "In a normal distribution, the least frequent data appears in the tails of the distribution, which are located farthest from the mean."
   ]
  }
 ],
 "metadata": {
  "kernelspec": {
   "display_name": "Python 3 (ipykernel)",
   "language": "python",
   "name": "python3"
  },
  "language_info": {
   "codemirror_mode": {
    "name": "ipython",
    "version": 3
   },
   "file_extension": ".py",
   "mimetype": "text/x-python",
   "name": "python",
   "nbconvert_exporter": "python",
   "pygments_lexer": "ipython3",
   "version": "3.10.8"
  }
 },
 "nbformat": 4,
 "nbformat_minor": 5
}
